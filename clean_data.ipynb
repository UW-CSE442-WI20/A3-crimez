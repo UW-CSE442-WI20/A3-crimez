{
 "cells": [
  {
   "cell_type": "code",
   "execution_count": null,
   "metadata": {},
   "outputs": [
    {
     "name": "stderr",
     "output_type": "stream",
     "text": [
      "WARNING:root:Requests made without an app_token will be subject to strict throttling limits.\n"
     ]
    }
   ],
   "source": [
    "import pandas as pd\n",
    "import numpy as np\n",
    "from sodapy import Socrata\n",
    "\n",
    "# Unauthenticated client only works with public data sets. Note 'None'\n",
    "# in place of application token, and no username or password:\n",
    "client = Socrata(\"data.cityofnewyork.us\", None)\n",
    "\n",
    "# Example authenticated client (needed for non-public datasets):\n",
    "# client = Socrata(data.cityofnewyork.us,\n",
    "#                  MyAppToken,\n",
    "#                  userame=\"user@example.com\",\n",
    "#                  password=\"AFakePassword\")\n",
    "\n",
    "# First 2000 results, returned as JSON from API / converted to Python list of\n",
    "# dictionaries by sodapy.\n",
    "results = client.get(\"qgea-i56i\", limit=6800000)\n",
    "\n",
    "# Convert to pandas DataFrame\n",
    "df = pd.DataFrame.from_records(results)"
   ]
  },
  {
   "cell_type": "code",
   "execution_count": null,
   "metadata": {},
   "outputs": [],
   "source": [
    "res = df.drop(df[(pd.DatetimeIndex(df['cmplnt_fr_dt']).year < 2009) \n",
    "               | (pd.DatetimeIndex(df['cmplnt_fr_dt']).year == 2019)].index)\n",
    "\n",
    "res = res[[\"cmplnt_fr_dt\", \"boro_nm\", \"ofns_desc\", \"pd_cd\", \"prem_typ_desc\"]]\n",
    "df = res\n",
    "print(np.shape(res))\n",
    "res = df.drop(df[(df['ofns_desc'] != \"ROBBERY\") \n",
    "                 & (df['ofns_desc'] != \"PETIT LARCENY\")\n",
    "                 & (df['ofns_desc'] != \"FELONY ASSAULT\")\n",
    "                 & (df['ofns_desc'] != \"ASSAULT 3 & RELATED OFFENSES\")\n",
    "                 & (df['ofns_desc'] != \"SEX CRIMES\")\n",
    "                 & (df['ofns_desc'] != \"HARRASSMENT 2\")\n",
    "                 & (df['ofns_desc'] != \"GRAND LARCENY\")\n",
    "                 & (df['ofns_desc'] != \"THEFT-FRAUD\")\n",
    "                 & (df['ofns_desc'] != \"BURGLARY\")\n",
    "                 & (df['ofns_desc'] != \"INTOXICATED & IMPAIRED DRIVING\")\n",
    "                 & (df['ofns_desc'] != \"INTOXICATED/IMPAIRED DRIVING\")\n",
    "                 & (df['ofns_desc'] != \"VEHICLE AND TRAFFIC LAWS\")\n",
    "                 & (df['ofns_desc'] != \"FORGERY\")\n",
    "                 & (df['ofns_desc'] != \"DANGEROUS WEAPONS\")\n",
    "                 & (df['ofns_desc'] != \"GRAND LARCENY OF MOTOR VEHICLE\")\n",
    "                 & (df['ofns_desc'] != \"DANGEROUS DRUGS\")\n",
    "                 & (df['ofns_desc'] != \"CRIMINAL MISCHIEF & RELATED OF\")\n",
    "                 & (df['ofns_desc'] != \"MISCELLANEOUS PENAL LAW\")\n",
    "                 & (df['ofns_desc'] != \"FRAUDS\")\n",
    "                 & (df['ofns_desc'] != \"CRIMINAL TRESPASS\")\n",
    "                 & (df['ofns_desc'] != \"OFFENSES AGAINST PUBLIC ADMINI\")\n",
    "                 & (df['ofns_desc'] != \"OFF. AGNST PUB ORD SENSBLTY &\")\n",
    "                ].index)\n",
    "\n",
    "print(np.shape(res))\n",
    "res"
   ]
  },
  {
   "cell_type": "code",
   "execution_count": null,
   "metadata": {},
   "outputs": [],
   "source": [
    "res.to_csv(r'crimes_filtered.csv')"
   ]
  },
  {
   "cell_type": "code",
   "execution_count": null,
   "metadata": {},
   "outputs": [],
   "source": []
  }
 ],
 "metadata": {
  "kernelspec": {
   "display_name": "Python 3",
   "language": "python",
   "name": "python3"
  },
  "language_info": {
   "codemirror_mode": {
    "name": "ipython",
    "version": 3
   },
   "file_extension": ".py",
   "mimetype": "text/x-python",
   "name": "python",
   "nbconvert_exporter": "python",
   "pygments_lexer": "ipython3",
   "version": "3.8.1"
  }
 },
 "nbformat": 4,
 "nbformat_minor": 4
}
